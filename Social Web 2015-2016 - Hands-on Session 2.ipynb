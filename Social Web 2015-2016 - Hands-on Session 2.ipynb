{
 "cells": [
  {
   "cell_type": "markdown",
   "metadata": {},
   "source": [
    "# The Social Web\n",
    "\n",
    "## 2015-2016 Master Information Sciences\n",
    "\n",
    "* Instructors: Davide Ceolin, Anca Dumitrache, and Niels Ockeloen\n",
    "* Exercises for Hands-on session 2\n",
    "* 11 February 2016 09:00 - 10:45\n",
    "* WN-F153 (L) WN-S345"
   ]
  },
  {
   "cell_type": "markdown",
   "metadata": {},
   "source": [
    "Prerequisites:\n",
    "\n",
    "* Python 2.6 or 2.7\n",
    "* Python packages: facebook-sdk, networkx, requests, ipython\n",
    "\n",
    "Make sure to start your virtual environment (e.g. use $ source socialEnv/bin/activate) and that the python packages listed above are installed.\n",
    "\n",
    "For these exercises you have to register as a Facebook Developer. You can do this by going to [https://developers.facebook.com/](https://developers.facebook.com/). Click on apps and ‘Register as developer’ and accept the terms. You can just continue without providing details. Get the user access token by following these steps:\n",
    "\n",
    "* Go to the Graph API Explorer page: [https://developers.facebook.com/tools/explorer](https://developers.facebook.com/tools/explorer)\n",
    "* Press the \"Get Access Token\" button to open an overlay window.\n",
    "* Check the \"user_friends\" box to set permission for retrieving your friend list. Click \"Get Access Token\".\n",
    "* Check your query by building it with the visual editor on the left side of the page. From the tree view, search and add field \"friends\", and then \"likes\" as a child of \"friends\". Click \"Submit\" to view the results of your query.\n",
    "* Copy your access token from the text box at the top of the page to use in your code."
   ]
  },
  {
   "cell_type": "markdown",
   "metadata": {},
   "source": [
    "**Task 1:** Make sure you know what all permissions mean. Think about which permissions you need to just find out who of your friends are also friends with each other.\n",
    "\n",
    "Because these are longer exercises than in the first session, we are going to store them in a script. This is nothing more than a plain text document that contains all the commands that we will load into Python. To load scripts you type <code>$ python NAMEOFSCRIPT.py</code> on your bash command line. This tells the computer that it's going to read python commands, from the file called <code>NAMEOFSCRIPT.py</code>. \n",
    "\n",
    "The $ sign indicates the command line.\n",
    "\n",
    "Facebook has different query APIs, such as REST APIs (http://developers.facebook.com/docs/reference/rest/), SQL-like query APIs using the Facebook Query Language (http://developers.facebook.com/docs/reference/fql) and the Graph API (http://developers.facebook.com/docs/reference/api) using the open Graph protocol (http://opengraphprotocol.org). This last one is the API we are going to use to query Facebook in the remainder of this session.\n",
    "\n",
    "**Exercise 1:** Gaining access to your Facebook account and query for information (based on Example 2-2 and 2-5 in Mining the Social Web)."
   ]
  },
  {
   "cell_type": "markdown",
   "metadata": {},
   "source": [
    "Copy the code you find in https://raw.githubusercontent.com/VU-Amsterdam-Web-Media-Group/TheSocialWeb2016/master/scripts/HandsOn2Exercise1.txt to a plain text document, and replace ACCESS_TOKEN with your user access token. Call the file facebook_graph_query.py and invoke it on the bash:\n",
    "<code>$ python facebook_graph_query.py</code>\n",
    "The output of facebook_graph_query.py retrieves information about yourself, your friends and searches for pages mentioning the UVA and VU. Invoking this script will show results but in the end returns an error. We are going to solve this in the next exercise."
   ]
  },
  {
   "cell_type": "code",
   "execution_count": null,
   "metadata": {
    "collapsed": true
   },
   "outputs": [],
   "source": []
  }
 ],
 "metadata": {
  "kernelspec": {
   "display_name": "Python 2",
   "language": "python",
   "name": "python2"
  },
  "language_info": {
   "codemirror_mode": {
    "name": "ipython",
    "version": 2
   },
   "file_extension": ".py",
   "mimetype": "text/x-python",
   "name": "python",
   "nbconvert_exporter": "python",
   "pygments_lexer": "ipython2",
   "version": "2.7.10"
  }
 },
 "nbformat": 4,
 "nbformat_minor": 0
}
